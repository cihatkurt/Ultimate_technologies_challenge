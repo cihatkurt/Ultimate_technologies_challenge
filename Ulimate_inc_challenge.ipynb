{
 "cells": [
  {
   "cell_type": "markdown",
   "metadata": {},
   "source": [
    "<div class=\"alert alert-info\">\n",
    "\n",
    "<H1> Data Analysis Interview Challenge </H1>\n",
    "\n",
    "<H2> Part 1 ‑ Exploratory data analysis </H2>\n",
    "\n",
    "<H3> The *logins.json* file, located in the data folder, contains (simulated) timestamps of user logins in a particular\n",
    "geographic location. \n",
    "\n",
    "Aggregate these login counts based on 15­minute time intervals, and\n",
    "visualize and describe the resulting time series of login counts in ways that best characterize the\n",
    "underlying patterns of the demand. Please report/illustrate important features of the demand,\n",
    "such as daily cycles. If there are data quality issues, please report them. </H3>\n",
    "</div>\n"
   ]
  },
  {
   "cell_type": "code",
   "execution_count": null,
   "metadata": {},
   "outputs": [],
   "source": [
    "# imports\n",
    "import pandas as pd\n",
    "import numpy as np\n",
    "# data viz imports\n",
    "import matplotlib.pyplot as plt\n",
    "plt.style.use('seaborn')\n",
    "# time-series imports\n",
    "from datetime import datetime\n",
    "from pandas.tseries.offsets import CustomBusinessHour\n",
    "from pandas.tseries.holiday import USFederalHolidayCalendar\n",
    "\n"
   ]
  },
  {
   "cell_type": "markdown",
   "metadata": {},
   "source": [
    "<div class=\"alert alert-success\">\n",
    "<H3> Process time-series data into 15min chunks </H3>\n",
    "</div>"
   ]
  },
  {
   "cell_type": "code",
   "execution_count": null,
   "metadata": {
    "scrolled": true
   },
   "outputs": [],
   "source": [
    "# load data as a data frame\n",
    "login_data = pd.read_json('data/logins.json')\n",
    "# add a column to represent the number of logins during each time\n",
    "login_data['login_count'] = np.ones(len(login_data), dtype= 'int')\n",
    "# set the login time as a datetime index\n",
    "login_data = login_data.set_index(pd.to_datetime(login_data['login_time'], unit='s'))\n",
    "# keep only the count and index\n",
    "#logins = login_data[['login_count']]\n",
    "# resample the index, so that time is represented in 15min chunks\n",
    "logins_delta15 = login_data.resample('15Min').sum()"
   ]
  },
  {
   "cell_type": "markdown",
   "metadata": {},
   "source": [
    "<div class=\"alert alert-success\">\n",
    "<H3> Visualize processed data </H3>\n",
    "</div>"
   ]
  },
  {
   "cell_type": "code",
   "execution_count": null,
   "metadata": {},
   "outputs": [],
   "source": [
    "# scatterplot of the binned data\n",
    "fig, ax = plt.subplots(figsize = (15,5))\n",
    "plt.xlabel('Time')\n",
    "plt.ylabel('Number of Logins')\n",
    "plt.tight_layout()\n",
    "plt.title('Logins')\n",
    "plt.plot(logins_delta15.index, logins_delta15.login_count)"
   ]
  },
  {
   "cell_type": "markdown",
   "metadata": {},
   "source": [
    "<div class=\"alert alert-warning\">\n",
    "<strong>It does look like there is an underlying pattern in the data, but it is hard to see at this scale.  Therefore, I will do two things\n",
    "    <ol>\n",
    "        <li>Look at the entire time-series with larger chunksize</li>\n",
    "        <li>Look at specific days separately</li>\n",
    "        <li>Find the busiest time of day</li>\n",
    "    </ol>\n",
    "    </strong>\n",
    "</div>\n",
    "    "
   ]
  },
  {
   "cell_type": "code",
   "execution_count": null,
   "metadata": {},
   "outputs": [],
   "source": [
    "# bin data by the day\n",
    "logins_daily = login_data.resample('D').sum()\n",
    "logins_biz_day = login_data.resample('B').sum()\n",
    "fridays = login_data.resample('W-FRI').sum()\n",
    "saturdays = login_data.resample('W-SAT').sum()\n",
    "sundays = login_data.resample('W-SUN').sum()\n",
    "\n",
    "\n",
    "# line, scatterplot, and histograms of the binned data\n",
    "fig, ax = plt.subplots(figsize = (15,8))\n",
    "plt.xlabel('Time', fontsize = 22)\n",
    "plt.ylabel('Number of Logins', fontsize = 22)\n",
    "plt.title('Logins over Time', fontsize = 22)\n",
    "\n",
    "plt.bar(fridays.index, fridays.login_count, align= 'center', width = 0.1, label = \"Fridays\", color = 'R')\n",
    "plt.bar(saturdays.index, saturdays.login_count, label = 'Saturday', align = 'center', width = 0.1, color = 'Black')\n",
    "plt.bar(sundays.index, sundays.login_count, label = \"Sundays\", align= 'center', width = 0.1, color = 'B')\n",
    "plt.plot(logins_daily.index, logins_daily.login_count, label = 'Day Frequency')\n",
    "plt.scatter(logins_biz_day.index, logins_biz_day.login_count, label='Weekdays')\n",
    "\n",
    "plt.legend(loc='upper left', fontsize = 16)\n",
    "plt.tight_layout()\n"
   ]
  },
  {
   "cell_type": "markdown",
   "metadata": {},
   "source": [
    "<div class=\"alert alert-warning\">\n",
    "<strong>The above graph makes it clear that Friday has the most logins, and that the weekends are busier than the weekdays.</strong>\n",
    "</div>"
   ]
  },
  {
   "cell_type": "code",
   "execution_count": null,
   "metadata": {},
   "outputs": [],
   "source": [
    "# make a column that identify the day of week; Monday=0, Sunday=6\n",
    "login_data['day_of_week'] = login_data['login_time'].apply(lambda x: x.weekday())\n",
    "# separate the slow days (M,T,W,Th) from the busy days (F,Sa,Su)\n",
    "#slow_df = login_data[login_data.day_of_week < 4]\n",
    "#busy_df = login_data[login_data.day_of_week > 3]\n",
    "# add a column that upsamples by hour\n",
    "login_data['only_hour'] = login_data['login_time'].apply(lambda x: x.hour)"
   ]
  },
  {
   "cell_type": "code",
   "execution_count": null,
   "metadata": {},
   "outputs": [],
   "source": [
    "login_data.head(2)"
   ]
  },
  {
   "cell_type": "code",
   "execution_count": null,
   "metadata": {},
   "outputs": [],
   "source": [
    "# create dataframe of the hourly login activity for each day\n",
    "hourly_data = pd.pivot_table(login_data, values = 'login_count', index='Only_hour', columns = 'day_of_week', aggfunc=np.sum).rename(columns= {0:'Monday',1:'Tuesday',2:'Wednesday',3:'Thursday',4:'Friday',5:'Saturday',6:'Sunday'})"
   ]
  },
  {
   "cell_type": "code",
   "execution_count": null,
   "metadata": {},
   "outputs": [],
   "source": [
    "hourly_by_day = {}\n",
    "names = ['Monday','Tuesday','Wednesday','Thursday','Friday','Saturday','Sunday']\n",
    "for day_num in range(0,7):\n",
    "    name= names[day_num]\n",
    "    hourly_data = (login_data[login_data['day_of_week'] == day_num]['login_count']).resample('H').mean()\n",
    "    hourly_by_day[name] = hourly_data"
   ]
  },
  {
   "cell_type": "code",
   "execution_count": null,
   "metadata": {},
   "outputs": [],
   "source": [
    "hourly_by_day.keys()"
   ]
  },
  {
   "cell_type": "code",
   "execution_count": null,
   "metadata": {},
   "outputs": [],
   "source": [
    "hourly_by_day['Monday']"
   ]
  },
  {
   "cell_type": "code",
   "execution_count": null,
   "metadata": {},
   "outputs": [],
   "source": [
    "plt.hbar(hourly_by_day['Monday'].index, sundays.login_count, label = \"Sundays\", align= 'center', width = 0.1, color = 'B')"
   ]
  },
  {
   "cell_type": "markdown",
   "metadata": {},
   "source": [
    "<div class=\"alert alert-info\">\n",
    "<H2> Part 2 ‑ Experiment and metrics design </H2>\n",
    "\n",
    "<H3> \n",
    "<p>\n",
    "The neighboring cities of Gotham and Metropolis have complementary circadian rhythms: on\n",
    "weekdays, Ultimate Gotham is most active at night, and Ultimate Metropolis is most active\n",
    "during the day. On weekends, there is reasonable activity in both cities.\n",
    "</p>\n",
    "\n",
    "<p>\n",
    "However, a toll bridge, with a two­way toll, between the two cities causes driver partners to tend\n",
    "to be exclusive to each city. The Ultimate managers of city operations for the two cities have\n",
    "proposed an experiment to encourage driver partners to be available in both cities, by\n",
    "reimbursing all toll costs.\n",
    "    <ol>\n",
    "        <li> What would you choose as the key measure of success of this experiment in encouraging driver partners to serve both cities, and why would you choose this metric?</li>\n",
    "        <li> Describe a practical experiment you would design to compare the effectiveness of the proposed change in relation to the key measure of success. Please provide details on:\n",
    "            <ul>\n",
    "                <li> how you will implement the experiment</li>\n",
    "                <li> what statistical test(s) you will conduct to verify the significance of the observation</li>\n",
    "                <li> how you would interpret the results and provide recommendations to the city operations team along with any caveats.</li> \n",
    "</ul>\n",
    "    </ol>\n",
    " </H3>\n",
    "</div>"
   ]
  },
  {
   "cell_type": "code",
   "execution_count": null,
   "metadata": {},
   "outputs": [],
   "source": []
  }
 ],
 "metadata": {
  "kernelspec": {
   "display_name": "Python 3",
   "language": "python",
   "name": "python3"
  },
  "language_info": {
   "codemirror_mode": {
    "name": "ipython",
    "version": 3
   },
   "file_extension": ".py",
   "mimetype": "text/x-python",
   "name": "python",
   "nbconvert_exporter": "python",
   "pygments_lexer": "ipython3",
   "version": "3.6.5"
  }
 },
 "nbformat": 4,
 "nbformat_minor": 2
}
